{
  "nbformat": 4,
  "nbformat_minor": 0,
  "metadata": {
    "colab": {
      "name": "NLP_Text_Classification.ipynb",
      "provenance": [],
      "collapsed_sections": []
    },
    "kernelspec": {
      "name": "python3",
      "display_name": "Python 3"
    },
    "language_info": {
      "name": "python"
    },
    "accelerator": "GPU"
  },
  "cells": [
    {
      "cell_type": "code",
      "source": [
        "from google.colab import drive\n",
        "drive.mount(\"/content/drive\")"
      ],
      "metadata": {
        "colab": {
          "base_uri": "https://localhost:8080/"
        },
        "id": "RzIlNF7hECBk",
        "outputId": "4c4ab2ec-82e3-4ddf-93f6-c1c5e06acecf"
      },
      "execution_count": null,
      "outputs": [
        {
          "output_type": "stream",
          "name": "stdout",
          "text": [
            "Mounted at /content/drive\n"
          ]
        }
      ]
    },
    {
      "cell_type": "code",
      "source": [
        "import sys\n",
        "sys.path.append('/content/drive/MyDrive/data-sets/IMDB_Dataset.csv')"
      ],
      "metadata": {
        "id": "jH4psu28FA0T"
      },
      "execution_count": null,
      "outputs": []
    },
    {
      "cell_type": "code",
      "execution_count": null,
      "metadata": {
        "id": "vRUn9mJh9kWV"
      },
      "outputs": [],
      "source": [
        "import pandas as pd\n",
        "import seaborn as sns\n",
        "import matplotlib.pyplot as plt"
      ]
    },
    {
      "cell_type": "code",
      "source": [
        "df = pd.read_csv(\"/content/drive/MyDrive/data-sets/IMDB_Dataset.csv\")\n",
        "print(df.head())"
      ],
      "metadata": {
        "colab": {
          "base_uri": "https://localhost:8080/"
        },
        "id": "idFQJm36Ibds",
        "outputId": "bfe822bd-0e9b-49fd-f8ac-c1baa590b51d"
      },
      "execution_count": null,
      "outputs": [
        {
          "output_type": "stream",
          "name": "stdout",
          "text": [
            "                                              review sentiment\n",
            "0  One of the other reviewers has mentioned that ...  positive\n",
            "1  A wonderful little production. <br /><br />The...  positive\n",
            "2  I thought this was a wonderful way to spend ti...  positive\n",
            "3  Basically there's a family where a little boy ...  negative\n",
            "4  Petter Mattei's \"Love in the Time of Money\" is...  positive\n"
          ]
        }
      ]
    },
    {
      "cell_type": "code",
      "source": [
        "sns.countplot(x=df[\"sentiment\"])\n",
        "plt.show()\n",
        "\n",
        "X = df[\"review\"]\n",
        "Y = df[\"sentiment\"]\n",
        "\n",
        "print(Y)"
      ],
      "metadata": {
        "colab": {
          "base_uri": "https://localhost:8080/",
          "height": 494
        },
        "id": "Fl00KBE1IwZ2",
        "outputId": "80354055-f193-471e-9387-42db36ba9df6"
      },
      "execution_count": null,
      "outputs": [
        {
          "output_type": "display_data",
          "data": {
            "text/plain": [
              "<Figure size 432x288 with 1 Axes>"
            ],
            "image/png": "[encoded data removed]"
          },
          "metadata": {
            "needs_background": "light"
          }
        },
        {
          "output_type": "stream",
          "name": "stdout",
          "text": [
            "0        positive\n",
            "1        positive\n",
            "2        positive\n",
            "3        negative\n",
            "4        positive\n",
            "           ...   \n",
            "49995    positive\n",
            "49996    negative\n",
            "49997    negative\n",
            "49998    negative\n",
            "49999    negative\n",
            "Name: sentiment, Length: 50000, dtype: object\n"
          ]
        }
      ]
    },
    {
      "cell_type": "code",
      "source": [
        "from sklearn.preprocessing import LabelEncoder\n",
        "\n",
        "\n",
        "le = LabelEncoder()\n",
        "Y = le.fit_transform(Y)\n",
        "print(\"Vocab's labels vector: \", Y, Y.shape)"
      ],
      "metadata": {
        "colab": {
          "base_uri": "https://localhost:8080/"
        },
        "id": "DgoxxPeBIejO",
        "outputId": "ea7aaefe-136a-49cd-823a-9383adbee97c"
      },
      "execution_count": null,
      "outputs": [
        {
          "output_type": "stream",
          "name": "stdout",
          "text": [
            "Vocab's labels vector:  [1 1 1 ... 0 0 0] (50000,)\n"
          ]
        }
      ]
    },
    {
      "cell_type": "code",
      "source": [
        "from sklearn.model_selection import train_test_split\n",
        "\n",
        "\n",
        "X_train, X_test, Y_train, Y_test = train_test_split(X, Y, test_size=0.2)"
      ],
      "metadata": {
        "id": "OOaZ4RXZIkZl"
      },
      "execution_count": null,
      "outputs": []
    },
    {
      "cell_type": "code",
      "source": [
        "from tensorflow.keras.preprocessing.text import Tokenizer\n",
        "\n",
        "\n",
        "max_words = 1000\n",
        "tkn = Tokenizer(num_words=max_words)\n",
        "tkn.fit_on_texts(X_train)\n",
        "seq = tkn.texts_to_sequences(X_train)"
      ],
      "metadata": {
        "id": "j0AdJCWhIm25"
      },
      "execution_count": null,
      "outputs": []
    },
    {
      "cell_type": "code",
      "source": [
        "seq\n",
        "print(len(seq))"
      ],
      "metadata": {
        "colab": {
          "base_uri": "https://localhost:8080/"
        },
        "id": "48PHL5TPJ-Pr",
        "outputId": "dc2c4f4d-db80-4430-b43a-1a566a0551d5"
      },
      "execution_count": null,
      "outputs": [
        {
          "output_type": "stream",
          "name": "stdout",
          "text": [
            "40000\n"
          ]
        }
      ]
    },
    {
      "cell_type": "code",
      "source": [
        "from tensorflow.keras.preprocessing.sequence import pad_sequences\n",
        "\n",
        "\n",
        "max_len = 200\n",
        "padded_docs = pad_sequences(seq, padding = 'pre', maxlen= max_len)\n",
        "print(padded_docs)"
      ],
      "metadata": {
        "colab": {
          "base_uri": "https://localhost:8080/"
        },
        "id": "zJa0_iz5IpDK",
        "outputId": "27e7539e-42a4-475f-e8ba-e32c2d6c47d4"
      },
      "execution_count": null,
      "outputs": [
        {
          "output_type": "stream",
          "name": "stdout",
          "text": [
            "[[  0   0   0 ...  12  27   5]\n",
            " [  0   0   0 ... 452   4  56]\n",
            " [  0   0   0 ... 142   8   3]\n",
            " ...\n",
            " [  2 262  24 ... 229  42   4]\n",
            " [  0   0   0 ...  48  11   6]\n",
            " [  0   0   0 ...  42   4 448]]\n"
          ]
        }
      ]
    },
    {
      "cell_type": "code",
      "source": [
        "from tensorflow.keras.models import Sequential\n",
        "from keras.layers import LSTM, Activation, Dense, Dropout, Input, Embedding\n",
        "\n",
        "\n",
        "embedding_vector_features = 30\n",
        "model = Sequential()\n",
        "model.add(Embedding(max_words, embedding_vector_features, input_length=max_len))\n",
        "model.add(LSTM(256))\n",
        "model.add(Dense(1, activation='sigmoid'))\n",
        "model.compile(loss = 'binary_crossentropy', optimizer='adam', metrics=['accuracy'])\n",
        "print(model.summary())"
      ],
      "metadata": {
        "colab": {
          "base_uri": "https://localhost:8080/"
        },
        "id": "8BcRQgHgIqqt",
        "outputId": "0801f3c6-36ad-42f8-d63d-a5e78c20b120"
      },
      "execution_count": null,
      "outputs": [
        {
          "output_type": "stream",
          "name": "stdout",
          "text": [
            "Model: \"sequential_1\"\n",
            "_________________________________________________________________\n",
            " Layer (type)                Output Shape              Param #   \n",
            "=================================================================\n",
            " embedding_1 (Embedding)     (None, 200, 30)           30000     \n",
            "                                                                 \n",
            " lstm_1 (LSTM)               (None, 256)               293888    \n",
            "                                                                 \n",
            " dense_1 (Dense)             (None, 1)                 257       \n",
            "                                                                 \n",
            "=================================================================\n",
            "Total params: 324,145\n",
            "Trainable params: 324,145\n",
            "Non-trainable params: 0\n",
            "_________________________________________________________________\n",
            "None\n"
          ]
        }
      ]
    },
    {
      "cell_type": "code",
      "source": [
        "history = model.fit(padded_docs,Y_train,batch_size=128,epochs=10, validation_split=0.2)"
      ],
      "metadata": {
        "colab": {
          "base_uri": "https://localhost:8080/"
        },
        "id": "pUo5rl21KqPt",
        "outputId": "56c82235-f9bb-4edd-d869-444f28c000f7"
      },
      "execution_count": null,
      "outputs": [
        {
          "output_type": "stream",
          "name": "stdout",
          "text": [
            "Epoch 1/10\n",
            "250/250 [==============================] - 11s 31ms/step - loss: 0.5568 - accuracy: 0.7066 - val_loss: 0.3687 - val_accuracy: 0.8378\n",
            "Epoch 2/10\n",
            "250/250 [==============================] - 7s 27ms/step - loss: 0.3814 - accuracy: 0.8313 - val_loss: 0.3535 - val_accuracy: 0.8537\n",
            "Epoch 3/10\n",
            "250/250 [==============================] - 7s 27ms/step - loss: 0.3219 - accuracy: 0.8647 - val_loss: 0.3344 - val_accuracy: 0.8591\n",
            "Epoch 4/10\n",
            "250/250 [==============================] - 7s 28ms/step - loss: 0.3113 - accuracy: 0.8686 - val_loss: 0.3278 - val_accuracy: 0.8574\n",
            "Epoch 5/10\n",
            "250/250 [==============================] - 7s 28ms/step - loss: 0.3037 - accuracy: 0.8723 - val_loss: 0.3498 - val_accuracy: 0.8556\n",
            "Epoch 6/10\n",
            "250/250 [==============================] - 8s 31ms/step - loss: 0.2920 - accuracy: 0.8763 - val_loss: 0.3341 - val_accuracy: 0.8579\n",
            "Epoch 7/10\n",
            "250/250 [==============================] - 7s 28ms/step - loss: 0.2822 - accuracy: 0.8809 - val_loss: 0.3510 - val_accuracy: 0.8605\n",
            "Epoch 8/10\n",
            "250/250 [==============================] - 7s 28ms/step - loss: 0.2726 - accuracy: 0.8873 - val_loss: 0.3510 - val_accuracy: 0.8579\n",
            "Epoch 9/10\n",
            "250/250 [==============================] - 7s 28ms/step - loss: 0.2660 - accuracy: 0.8886 - val_loss: 0.3319 - val_accuracy: 0.8560\n",
            "Epoch 10/10\n",
            "250/250 [==============================] - 7s 28ms/step - loss: 0.2571 - accuracy: 0.8940 - val_loss: 0.3297 - val_accuracy: 0.8626\n"
          ]
        }
      ]
    },
    {
      "cell_type": "code",
      "source": [
        "# Test Set \n",
        "\n",
        "text_seq = tkn.texts_to_sequences(X_test)\n",
        "test_padded = pad_sequences(text_seq, maxlen = max_len)\n",
        "\n",
        "accr = model.evaluate(test_padded, Y_test)\n",
        "print(accr)"
      ],
      "metadata": {
        "colab": {
          "base_uri": "https://localhost:8080/"
        },
        "id": "RtGdRmCWKtBy",
        "outputId": "ab1a77a6-d99d-47c1-e73a-1409790d7e11"
      },
      "execution_count": null,
      "outputs": [
        {
          "output_type": "stream",
          "name": "stdout",
          "text": [
            "313/313 [==============================] - 2s 7ms/step - loss: 0.3093 - accuracy: 0.8668\n",
            "[0.30932125449180603, 0.8668000102043152]\n"
          ]
        }
      ]
    },
    {
      "cell_type": "code",
      "source": [
        "# summarize history for loss\n",
        "plt.plot(history.history['loss'])\n",
        "plt.plot(history.history['val_loss'])\n",
        "plt.title('model loss')\n",
        "plt.ylabel('loss')\n",
        "plt.xlabel('epoch')\n",
        "plt.legend(['train', 'test'], loc='upper left')\n",
        "plt.show()\n",
        "\n",
        "# summarize history for accuracy\n",
        "plt.plot(history.history['accuracy'])\n",
        "plt.plot(history.history['val_accuracy'])\n",
        "plt.title('model accuracy')\n",
        "plt.ylabel('accuracy')\n",
        "plt.xlabel('epoch')\n",
        "plt.legend(['train', 'test'], loc='upper left')\n",
        "plt.show()"
      ],
      "metadata": {
        "colab": {
          "base_uri": "https://localhost:8080/",
          "height": 573
        },
        "id": "UOIHSKVtTwp4",
        "outputId": "8f2096b1-bde3-4c09-8c69-81adba981f16"
      },
      "execution_count": null,
      "outputs": [
        {
          "output_type": "display_data",
          "data": {
            "text/plain": [
              "<Figure size 432x288 with 1 Axes>"
            ],
            "image/png": "[encoded data removed]"
          },
          "metadata": {
            "needs_background": "light"
          }
        },
        {
          "output_type": "display_data",
          "data": {
            "text/plain": [
              "<Figure size 432x288 with 1 Axes>"
            ],
            "image/png": "[encoded data removed]"
          },
          "metadata": {
            "needs_background": "light"
          }
        }
      ]
    },
    {
      "cell_type": "code",
      "source": [
        "# AbNegative rating (3 of 10)\n",
        "import numpy as np\n",
        "\n",
        "\n",
        "comment1 = \"\"\"I'm not sure what accomplished director/producer/cinematographer Joshua Caldwell was thinking taking on this project.\n",
        "This film has got to be the epitome of terrible writing and should be a classroom example of 'what not to do' when writing a screenplay. \n",
        "Why would Joshua take on (clearly) amateur writer Adam Gaines script is beyond me. \n",
        "Even his good directing and excellent cinematography could not save this disaster.\n",
        "Aside from the super obvious plot holes and very poor story overall, the dragged-out unnecessary dialogue made this film unbearable and extremely boring. \n",
        "The way too long 1h 39min film length felt like 4 hours and I found myself saying \"get on with it already, who cares!\" when the two leads would just ramble on about nothing relevant. \n",
        "This movie may have been interesting if it was a 30 min short film (which oddly enough is the only minimal writing experience Adam Gaines has).\n",
        "The acting was decent and Katia Winter was very easy on the eyes to look at, but her chemistry with Simon Quarterman was very unconvincing. \n",
        "Maybe it was the boring dialogue they had that made their chemistry absent.\n",
        "Even the maybe total of 10 minutes of action scenes were overly dragged out. \n",
        "The rest of the film was primarily useless garbage dialogue with absolutely no point to the story - start to finish.\n",
        "Don't waste your time with this one. See the trailer, and that's all the good and interesting parts you'll need to see.\n",
        "This gets a 3/10 strictly for the directing and cinematography.\"\"\"\n",
        "\n",
        "comment2 = \"This was the best movie I have ever seen\"\n",
        "\n",
        "\n",
        "text_seq = tkn.texts_to_sequences(comment2)\n",
        "test_padded = pad_sequences(text_seq, maxlen = max_len)\n",
        "\n",
        "single_sentence_probas = model.predict(test_padded)\n",
        "print(len(single_sentence_probas))\n",
        "predicted_class_label = np.argmax(single_sentence_probas)\n",
        "\n",
        "\n",
        "print(predicted_class_label)"
      ],
      "metadata": {
        "colab": {
          "base_uri": "https://localhost:8080/"
        },
        "id": "XStnazZeLlZY",
        "outputId": "fcfd5fe7-cf0c-4e34-b9c9-b66973b02ad4"
      },
      "execution_count": null,
      "outputs": [
        {
          "output_type": "stream",
          "name": "stdout",
          "text": [
            "40\n",
            "3\n"
          ]
        }
      ]
    }
  ]
}