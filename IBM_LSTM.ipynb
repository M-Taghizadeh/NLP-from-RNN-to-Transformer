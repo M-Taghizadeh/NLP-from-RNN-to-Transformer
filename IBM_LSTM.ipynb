{
  "nbformat": 4,
  "nbformat_minor": 0,
  "metadata": {
    "colab": {
      "name": "IBM_LSTM.ipynb",
      "provenance": [],
      "collapsed_sections": []
    },
    "kernelspec": {
      "name": "python3",
      "display_name": "Python 3"
    },
    "language_info": {
      "name": "python"
    }
  },
  "cells": [
    {
      "cell_type": "code",
      "source": [
        "from google.colab import drive\n",
        "drive.mount(\"/content/drive\")"
      ],
      "metadata": {
        "colab": {
          "base_uri": "https://localhost:8080/"
        },
        "id": "47NRnzIrW2Mo",
        "outputId": "4eafbc0a-b5a6-4af3-bc54-93c04cfef436"
      },
      "execution_count": null,
      "outputs": [
        {
          "output_type": "stream",
          "name": "stdout",
          "text": [
            "Mounted at /content/drive\n"
          ]
        }
      ]
    },
    {
      "cell_type": "code",
      "source": [
        "import sys\n",
        "sys.path.append('/content/drive/MyDrive/data-sets/IBM.csv')"
      ],
      "metadata": {
        "id": "URsYZcc-W7pO"
      },
      "execution_count": null,
      "outputs": []
    },
    {
      "cell_type": "code",
      "execution_count": null,
      "metadata": {
        "id": "VIg-BjwpUSYs"
      },
      "outputs": [],
      "source": [
        "import pandas as pd\n",
        "import numpy as np\n",
        "import matplotlib.pyplot as plt"
      ]
    },
    {
      "cell_type": "code",
      "source": [
        "dataset = pd.read_csv(\"/content/drive/MyDrive/data-sets/IBM.csv\", index_col=\"Date\", parse_dates=[\"Date\"], usecols=[0, 2])"
      ],
      "metadata": {
        "id": "uq6ye5YVUdM-"
      },
      "execution_count": null,
      "outputs": []
    },
    {
      "cell_type": "code",
      "source": [
        "dataset"
      ],
      "metadata": {
        "colab": {
          "base_uri": "https://localhost:8080/",
          "height": 455
        },
        "id": "KAvLR6rBXYOK",
        "outputId": "63280092-1f4a-4fc0-9c77-320f394b1d69"
      },
      "execution_count": null,
      "outputs": [
        {
          "output_type": "execute_result",
          "data": {
            "text/plain": [
              "             High\n",
              "Date             \n",
              "2006-01-03  41.22\n",
              "2006-01-04  41.90\n",
              "2006-01-05  41.73\n",
              "2006-01-06  43.57\n",
              "2006-01-09  43.66\n",
              "...           ...\n",
              "2017-12-22  71.87\n",
              "2017-12-26  71.39\n",
              "2017-12-27  70.49\n",
              "2017-12-28  70.32\n",
              "2017-12-29  70.13\n",
              "\n",
              "[3019 rows x 1 columns]"
            ],
            "text/html": [
              "\n",
              "  <div id=\"df-ef7da410-c323-4cb8-acf2-ecad29355ff7\">\n",
              "    <div class=\"colab-df-container\">\n",
              "      <div>\n",
              "<style scoped>\n",
              "    .dataframe tbody tr th:only-of-type {\n",
              "        vertical-align: middle;\n",
              "    }\n",
              "\n",
              "    .dataframe tbody tr th {\n",
              "        vertical-align: top;\n",
              "    }\n",
              "\n",
              "    .dataframe thead th {\n",
              "        text-align: right;\n",
              "    }\n",
              "</style>\n",
              "<table border=\"1\" class=\"dataframe\">\n",
              "  <thead>\n",
              "    <tr style=\"text-align: right;\">\n",
              "      <th></th>\n",
              "      <th>High</th>\n",
              "    </tr>\n",
              "    <tr>\n",
              "      <th>Date</th>\n",
              "      <th></th>\n",
              "    </tr>\n",
              "  </thead>\n",
              "  <tbody>\n",
              "    <tr>\n",
              "      <th>2006-01-03</th>\n",
              "      <td>41.22</td>\n",
              "    </tr>\n",
              "    <tr>\n",
              "      <th>2006-01-04</th>\n",
              "      <td>41.90</td>\n",
              "    </tr>\n",
              "    <tr>\n",
              "      <th>2006-01-05</th>\n",
              "      <td>41.73</td>\n",
              "    </tr>\n",
              "    <tr>\n",
              "      <th>2006-01-06</th>\n",
              "      <td>43.57</td>\n",
              "    </tr>\n",
              "    <tr>\n",
              "      <th>2006-01-09</th>\n",
              "      <td>43.66</td>\n",
              "    </tr>\n",
              "    <tr>\n",
              "      <th>...</th>\n",
              "      <td>...</td>\n",
              "    </tr>\n",
              "    <tr>\n",
              "      <th>2017-12-22</th>\n",
              "      <td>71.87</td>\n",
              "    </tr>\n",
              "    <tr>\n",
              "      <th>2017-12-26</th>\n",
              "      <td>71.39</td>\n",
              "    </tr>\n",
              "    <tr>\n",
              "      <th>2017-12-27</th>\n",
              "      <td>70.49</td>\n",
              "    </tr>\n",
              "    <tr>\n",
              "      <th>2017-12-28</th>\n",
              "      <td>70.32</td>\n",
              "    </tr>\n",
              "    <tr>\n",
              "      <th>2017-12-29</th>\n",
              "      <td>70.13</td>\n",
              "    </tr>\n",
              "  </tbody>\n",
              "</table>\n",
              "<p>3019 rows × 1 columns</p>\n",
              "</div>\n",
              "      <button class=\"colab-df-convert\" onclick=\"convertToInteractive('df-ef7da410-c323-4cb8-acf2-ecad29355ff7')\"\n",
              "              title=\"Convert this dataframe to an interactive table.\"\n",
              "              style=\"display:none;\">\n",
              "        \n",
              "  <svg xmlns=\"http://www.w3.org/2000/svg\" height=\"24px\"viewBox=\"0 0 24 24\"\n",
              "       width=\"24px\">\n",
              "    <path d=\"M0 0h24v24H0V0z\" fill=\"none\"/>\n",
              "    <path d=\"M18.56 5.44l.94 2.06.94-2.06 2.06-.94-2.06-.94-.94-2.06-.94 2.06-2.06.94zm-11 1L8.5 8.5l.94-2.06 2.06-.94-2.06-.94L8.5 2.5l-.94 2.06-2.06.94zm10 10l.94 2.06.94-2.06 2.06-.94-2.06-.94-.94-2.06-.94 2.06-2.06.94z\"/><path d=\"M17.41 7.96l-1.37-1.37c-.4-.4-.92-.59-1.43-.59-.52 0-1.04.2-1.43.59L10.3 9.45l-7.72 7.72c-.78.78-.78 2.05 0 2.83L4 21.41c.39.39.9.59 1.41.59.51 0 1.02-.2 1.41-.59l7.78-7.78 2.81-2.81c.8-.78.8-2.07 0-2.86zM5.41 20L4 18.59l7.72-7.72 1.47 1.35L5.41 20z\"/>\n",
              "  </svg>\n",
              "      </button>\n",
              "      \n",
              "  <style>\n",
              "    .colab-df-container {\n",
              "      display:flex;\n",
              "      flex-wrap:wrap;\n",
              "      gap: 12px;\n",
              "    }\n",
              "\n",
              "    .colab-df-convert {\n",
              "      background-color: #E8F0FE;\n",
              "      border: none;\n",
              "      border-radius: 50%;\n",
              "      cursor: pointer;\n",
              "      display: none;\n",
              "      fill: #1967D2;\n",
              "      height: 32px;\n",
              "      padding: 0 0 0 0;\n",
              "      width: 32px;\n",
              "    }\n",
              "\n",
              "    .colab-df-convert:hover {\n",
              "      background-color: #E2EBFA;\n",
              "      box-shadow: 0px 1px 2px rgba(60, 64, 67, 0.3), 0px 1px 3px 1px rgba(60, 64, 67, 0.15);\n",
              "      fill: #174EA6;\n",
              "    }\n",
              "\n",
              "    [theme=dark] .colab-df-convert {\n",
              "      background-color: #3B4455;\n",
              "      fill: #D2E3FC;\n",
              "    }\n",
              "\n",
              "    [theme=dark] .colab-df-convert:hover {\n",
              "      background-color: #434B5C;\n",
              "      box-shadow: 0px 1px 3px 1px rgba(0, 0, 0, 0.15);\n",
              "      filter: drop-shadow(0px 1px 2px rgba(0, 0, 0, 0.3));\n",
              "      fill: #FFFFFF;\n",
              "    }\n",
              "  </style>\n",
              "\n",
              "      <script>\n",
              "        const buttonEl =\n",
              "          document.querySelector('#df-ef7da410-c323-4cb8-acf2-ecad29355ff7 button.colab-df-convert');\n",
              "        buttonEl.style.display =\n",
              "          google.colab.kernel.accessAllowed ? 'block' : 'none';\n",
              "\n",
              "        async function convertToInteractive(key) {\n",
              "          const element = document.querySelector('#df-ef7da410-c323-4cb8-acf2-ecad29355ff7');\n",
              "          const dataTable =\n",
              "            await google.colab.kernel.invokeFunction('convertToInteractive',\n",
              "                                                     [key], {});\n",
              "          if (!dataTable) return;\n",
              "\n",
              "          const docLinkHtml = 'Like what you see? Visit the ' +\n",
              "            '<a target=\"_blank\" href=https://colab.research.google.com/notebooks/data_table.ipynb>data table notebook</a>'\n",
              "            + ' to learn more about interactive tables.';\n",
              "          element.innerHTML = '';\n",
              "          dataTable['output_type'] = 'display_data';\n",
              "          await google.colab.output.renderOutput(dataTable, element);\n",
              "          const docLink = document.createElement('div');\n",
              "          docLink.innerHTML = docLinkHtml;\n",
              "          element.appendChild(docLink);\n",
              "        }\n",
              "      </script>\n",
              "    </div>\n",
              "  </div>\n",
              "  "
            ]
          },
          "metadata": {},
          "execution_count": 17
        }
      ]
    },
    {
      "cell_type": "code",
      "source": [
        "training_set = dataset[:'2016'].values\n",
        "test_set = dataset[\"2017\":].values"
      ],
      "metadata": {
        "id": "ZA6GfnXRXYWY"
      },
      "execution_count": null,
      "outputs": []
    },
    {
      "cell_type": "code",
      "source": [
        "dataset[\"High\"][:\"2016\"].plot(figsize=(16, 4), legend=True)\n",
        "dataset[\"High\"][\"2017\":].plot(figsize=(16, 4), legend=True)\n",
        "plt.legend([\"Training set before 2017\", \"Test set beyond 2017\"])\n",
        "plt.title(\"IBM stock price\")\n",
        "plt.show()"
      ],
      "metadata": {
        "colab": {
          "base_uri": "https://localhost:8080/",
          "height": 285
        },
        "id": "h23Omr0xXYgh",
        "outputId": "2dffc8ae-21a4-423f-b26a-942b5de4091c"
      },
      "execution_count": null,
      "outputs": [
        {
          "output_type": "display_data",
          "data": {
            "text/plain": [
              "<Figure size 1152x288 with 1 Axes>"
            ],
            "image/png": "[encoded data removed]"
          },
          "metadata": {
            "needs_background": "light"
          }
        }
      ]
    },
    {
      "cell_type": "code",
      "source": [
        "# Import libraries\n",
        "from sklearn.preprocessing import MinMaxScaler"
      ],
      "metadata": {
        "id": "iWaqhe1SXYkZ"
      },
      "execution_count": null,
      "outputs": []
    },
    {
      "cell_type": "code",
      "source": [
        "# Scaling the training set\n",
        "sc = MinMaxScaler(feature_range=(0, 1))\n",
        "training_set_scaled = sc.fit_transform(training_set)"
      ],
      "metadata": {
        "id": "z7U2Dv_ZZkw4"
      },
      "execution_count": null,
      "outputs": []
    },
    {
      "cell_type": "code",
      "source": [
        "training_set_scaled"
      ],
      "metadata": {
        "colab": {
          "base_uri": "https://localhost:8080/"
        },
        "id": "Rf8N5nsUaBOc",
        "outputId": "97559788-4fb4-4aea-f693-47ea8c7c36fc"
      },
      "execution_count": null,
      "outputs": [
        {
          "output_type": "execute_result",
          "data": {
            "text/plain": [
              "array([[0.73574409],\n",
              "       [0.75150672],\n",
              "       [0.74756606],\n",
              "       ...,\n",
              "       [0.6893834 ],\n",
              "       [0.6826611 ],\n",
              "       [0.68428373]])"
            ]
          },
          "metadata": {},
          "execution_count": 31
        }
      ]
    },
    {
      "cell_type": "code",
      "source": [
        "x_train = []\n",
        "y_train = []\n",
        "\n",
        "for i in range(10, len(training_set_scaled)):\n",
        "    x_train.append(training_set_scaled[i-10:i, 0])\n",
        "    y_train.append(training_set_scaled[i, 0])\n",
        "\n",
        "x_train, y_train = np.array(x_train), np.array(y_train)"
      ],
      "metadata": {
        "id": "kh0aZ2Y-aQtW"
      },
      "execution_count": null,
      "outputs": []
    },
    {
      "cell_type": "code",
      "source": [
        "x_train.shape"
      ],
      "metadata": {
        "colab": {
          "base_uri": "https://localhost:8080/"
        },
        "id": "4PO3WrS4cTFO",
        "outputId": "949868fc-87a1-40fe-fb94-ba4fd79a24b5"
      },
      "execution_count": null,
      "outputs": [
        {
          "output_type": "execute_result",
          "data": {
            "text/plain": [
              "(2758, 10)"
            ]
          },
          "metadata": {},
          "execution_count": 37
        }
      ]
    },
    {
      "cell_type": "code",
      "source": [
        "x_train = np.reshape(x_train, (x_train.shape[0], x_train.shape[1], 1))\n",
        "x_train.shape"
      ],
      "metadata": {
        "colab": {
          "base_uri": "https://localhost:8080/"
        },
        "id": "YAizJ2ePcV8n",
        "outputId": "70d1513b-d2f3-4504-fc59-07348223e2ad"
      },
      "execution_count": null,
      "outputs": [
        {
          "output_type": "execute_result",
          "data": {
            "text/plain": [
              "(2758, 10, 1)"
            ]
          },
          "metadata": {},
          "execution_count": 41
        }
      ]
    },
    {
      "cell_type": "code",
      "source": [
        "# import libraries \n",
        "from keras.models import Sequential\n",
        "from keras.layers import Dense, LSTM, Dropout"
      ],
      "metadata": {
        "id": "d4gDURZWjUOj"
      },
      "execution_count": null,
      "outputs": []
    },
    {
      "cell_type": "code",
      "source": [
        "regressor = Sequential()\n",
        "regressor.add(LSTM(units=10))\n",
        "regressor.add(Dropout(0.2))\n",
        "regressor.add(Dense(1)) # output layer"
      ],
      "metadata": {
        "id": "nrLo9Ensj3Rh"
      },
      "execution_count": null,
      "outputs": []
    },
    {
      "cell_type": "code",
      "source": [
        "regressor.compile(optimizer=\"adam\", loss=\"mean_squared_error\")"
      ],
      "metadata": {
        "id": "7xItlW82kZDs"
      },
      "execution_count": null,
      "outputs": []
    },
    {
      "cell_type": "code",
      "source": [
        "regressor.fit(x_train, y_train, epochs=100, batch_size=32)"
      ],
      "metadata": {
        "colab": {
          "base_uri": "https://localhost:8080/"
        },
        "id": "MMl8YPsSkkl3",
        "outputId": "3a668e1a-bb69-490e-f062-a3fd718325b1"
      },
      "execution_count": null,
      "outputs": [
        {
          "output_type": "stream",
          "name": "stdout",
          "text": [
            "Epoch 1/100\n",
            "87/87 [==============================] - 3s 6ms/step - loss: 0.0125\n",
            "Epoch 2/100\n",
            "87/87 [==============================] - 1s 6ms/step - loss: 0.0063\n",
            "Epoch 3/100\n",
            "87/87 [==============================] - 1s 6ms/step - loss: 0.0054\n",
            "Epoch 4/100\n",
            "87/87 [==============================] - 1s 6ms/step - loss: 0.0050\n",
            "Epoch 5/100\n",
            "87/87 [==============================] - 1s 6ms/step - loss: 0.0041\n",
            "Epoch 6/100\n",
            "87/87 [==============================] - 1s 6ms/step - loss: 0.0040\n",
            "Epoch 7/100\n",
            "87/87 [==============================] - 1s 8ms/step - loss: 0.0035\n",
            "Epoch 8/100\n",
            "87/87 [==============================] - 1s 6ms/step - loss: 0.0033\n",
            "Epoch 9/100\n",
            "87/87 [==============================] - 1s 7ms/step - loss: 0.0033\n",
            "Epoch 10/100\n",
            "87/87 [==============================] - 1s 7ms/step - loss: 0.0029\n",
            "Epoch 11/100\n",
            "87/87 [==============================] - 1s 6ms/step - loss: 0.0029\n",
            "Epoch 12/100\n",
            "87/87 [==============================] - 1s 6ms/step - loss: 0.0024\n",
            "Epoch 13/100\n",
            "87/87 [==============================] - 1s 6ms/step - loss: 0.0025\n",
            "Epoch 14/100\n",
            "87/87 [==============================] - 1s 6ms/step - loss: 0.0025\n",
            "Epoch 15/100\n",
            "87/87 [==============================] - 1s 7ms/step - loss: 0.0023\n",
            "Epoch 16/100\n",
            "87/87 [==============================] - 1s 6ms/step - loss: 0.0021\n",
            "Epoch 17/100\n",
            "87/87 [==============================] - 1s 6ms/step - loss: 0.0021\n",
            "Epoch 18/100\n",
            "87/87 [==============================] - 1s 7ms/step - loss: 0.0019\n",
            "Epoch 19/100\n",
            "87/87 [==============================] - 1s 7ms/step - loss: 0.0019\n",
            "Epoch 20/100\n",
            "87/87 [==============================] - 0s 6ms/step - loss: 0.0020\n",
            "Epoch 21/100\n",
            "87/87 [==============================] - 0s 6ms/step - loss: 0.0019\n",
            "Epoch 22/100\n",
            "87/87 [==============================] - 1s 6ms/step - loss: 0.0019\n",
            "Epoch 23/100\n",
            "87/87 [==============================] - 1s 6ms/step - loss: 0.0020\n",
            "Epoch 24/100\n",
            "87/87 [==============================] - 1s 7ms/step - loss: 0.0019\n",
            "Epoch 25/100\n",
            "87/87 [==============================] - 1s 6ms/step - loss: 0.0019\n",
            "Epoch 26/100\n",
            "87/87 [==============================] - 1s 6ms/step - loss: 0.0018\n",
            "Epoch 27/100\n",
            "87/87 [==============================] - 0s 6ms/step - loss: 0.0018\n",
            "Epoch 28/100\n",
            "87/87 [==============================] - 1s 6ms/step - loss: 0.0017\n",
            "Epoch 29/100\n",
            "87/87 [==============================] - 1s 6ms/step - loss: 0.0018\n",
            "Epoch 30/100\n",
            "87/87 [==============================] - 1s 7ms/step - loss: 0.0017\n",
            "Epoch 31/100\n",
            "87/87 [==============================] - 1s 7ms/step - loss: 0.0018\n",
            "Epoch 32/100\n",
            "87/87 [==============================] - 1s 7ms/step - loss: 0.0018\n",
            "Epoch 33/100\n",
            "87/87 [==============================] - 0s 6ms/step - loss: 0.0018\n",
            "Epoch 34/100\n",
            "87/87 [==============================] - 1s 7ms/step - loss: 0.0019\n",
            "Epoch 35/100\n",
            "87/87 [==============================] - 1s 8ms/step - loss: 0.0018\n",
            "Epoch 36/100\n",
            "87/87 [==============================] - 1s 6ms/step - loss: 0.0018\n",
            "Epoch 37/100\n",
            "87/87 [==============================] - 1s 6ms/step - loss: 0.0019\n",
            "Epoch 38/100\n",
            "87/87 [==============================] - 1s 6ms/step - loss: 0.0018\n",
            "Epoch 39/100\n",
            "87/87 [==============================] - 1s 7ms/step - loss: 0.0017\n",
            "Epoch 40/100\n",
            "87/87 [==============================] - 1s 6ms/step - loss: 0.0018\n",
            "Epoch 41/100\n",
            "87/87 [==============================] - 1s 6ms/step - loss: 0.0017\n",
            "Epoch 42/100\n",
            "87/87 [==============================] - 0s 5ms/step - loss: 0.0018\n",
            "Epoch 43/100\n",
            "87/87 [==============================] - 1s 6ms/step - loss: 0.0017\n",
            "Epoch 44/100\n",
            "87/87 [==============================] - 1s 7ms/step - loss: 0.0019\n",
            "Epoch 45/100\n",
            "87/87 [==============================] - 1s 7ms/step - loss: 0.0019\n",
            "Epoch 46/100\n",
            "87/87 [==============================] - 1s 7ms/step - loss: 0.0017\n",
            "Epoch 47/100\n",
            "87/87 [==============================] - 1s 7ms/step - loss: 0.0017\n",
            "Epoch 48/100\n",
            "87/87 [==============================] - 1s 7ms/step - loss: 0.0017\n",
            "Epoch 49/100\n",
            "87/87 [==============================] - 1s 7ms/step - loss: 0.0017\n",
            "Epoch 50/100\n",
            "87/87 [==============================] - 1s 6ms/step - loss: 0.0017\n",
            "Epoch 51/100\n",
            "87/87 [==============================] - 1s 6ms/step - loss: 0.0018\n",
            "Epoch 52/100\n",
            "87/87 [==============================] - 0s 6ms/step - loss: 0.0017\n",
            "Epoch 53/100\n",
            "87/87 [==============================] - 1s 6ms/step - loss: 0.0017\n",
            "Epoch 54/100\n",
            "87/87 [==============================] - 1s 6ms/step - loss: 0.0017\n",
            "Epoch 55/100\n",
            "87/87 [==============================] - 1s 6ms/step - loss: 0.0018\n",
            "Epoch 56/100\n",
            "87/87 [==============================] - 1s 6ms/step - loss: 0.0015\n",
            "Epoch 57/100\n",
            "87/87 [==============================] - 1s 8ms/step - loss: 0.0017\n",
            "Epoch 58/100\n",
            "87/87 [==============================] - 0s 6ms/step - loss: 0.0017\n",
            "Epoch 59/100\n",
            "87/87 [==============================] - 1s 6ms/step - loss: 0.0016\n",
            "Epoch 60/100\n",
            "87/87 [==============================] - 1s 7ms/step - loss: 0.0017\n",
            "Epoch 61/100\n",
            "87/87 [==============================] - 1s 7ms/step - loss: 0.0016\n",
            "Epoch 62/100\n",
            "87/87 [==============================] - 1s 6ms/step - loss: 0.0017\n",
            "Epoch 63/100\n",
            "87/87 [==============================] - 1s 6ms/step - loss: 0.0018\n",
            "Epoch 64/100\n",
            "87/87 [==============================] - 1s 6ms/step - loss: 0.0017\n",
            "Epoch 65/100\n",
            "87/87 [==============================] - 1s 6ms/step - loss: 0.0017\n",
            "Epoch 66/100\n",
            "87/87 [==============================] - 1s 6ms/step - loss: 0.0017\n",
            "Epoch 67/100\n",
            "87/87 [==============================] - 1s 6ms/step - loss: 0.0018\n",
            "Epoch 68/100\n",
            "87/87 [==============================] - 1s 6ms/step - loss: 0.0017\n",
            "Epoch 69/100\n",
            "87/87 [==============================] - 1s 6ms/step - loss: 0.0017\n",
            "Epoch 70/100\n",
            "87/87 [==============================] - 1s 6ms/step - loss: 0.0018\n",
            "Epoch 71/100\n",
            "87/87 [==============================] - 1s 6ms/step - loss: 0.0017\n",
            "Epoch 72/100\n",
            "87/87 [==============================] - 1s 6ms/step - loss: 0.0016\n",
            "Epoch 73/100\n",
            "87/87 [==============================] - 1s 6ms/step - loss: 0.0016\n",
            "Epoch 74/100\n",
            "87/87 [==============================] - 1s 6ms/step - loss: 0.0016\n",
            "Epoch 75/100\n",
            "87/87 [==============================] - 0s 5ms/step - loss: 0.0017\n",
            "Epoch 76/100\n",
            "87/87 [==============================] - 1s 6ms/step - loss: 0.0017\n",
            "Epoch 77/100\n",
            "87/87 [==============================] - 1s 6ms/step - loss: 0.0017\n",
            "Epoch 78/100\n",
            "87/87 [==============================] - 1s 6ms/step - loss: 0.0017\n",
            "Epoch 79/100\n",
            "87/87 [==============================] - 1s 6ms/step - loss: 0.0016\n",
            "Epoch 80/100\n",
            "87/87 [==============================] - 1s 6ms/step - loss: 0.0016\n",
            "Epoch 81/100\n",
            "87/87 [==============================] - 1s 13ms/step - loss: 0.0017\n",
            "Epoch 82/100\n",
            "87/87 [==============================] - 1s 9ms/step - loss: 0.0016\n",
            "Epoch 83/100\n",
            "87/87 [==============================] - 1s 9ms/step - loss: 0.0016\n",
            "Epoch 84/100\n",
            "87/87 [==============================] - 1s 10ms/step - loss: 0.0016\n",
            "Epoch 85/100\n",
            "87/87 [==============================] - 1s 6ms/step - loss: 0.0018\n",
            "Epoch 86/100\n",
            "87/87 [==============================] - 1s 6ms/step - loss: 0.0017\n",
            "Epoch 87/100\n",
            "87/87 [==============================] - 1s 6ms/step - loss: 0.0017\n",
            "Epoch 88/100\n",
            "87/87 [==============================] - 1s 6ms/step - loss: 0.0017\n",
            "Epoch 89/100\n",
            "87/87 [==============================] - 1s 6ms/step - loss: 0.0017\n",
            "Epoch 90/100\n",
            "87/87 [==============================] - 1s 7ms/step - loss: 0.0016\n",
            "Epoch 91/100\n",
            "87/87 [==============================] - 1s 7ms/step - loss: 0.0017\n",
            "Epoch 92/100\n",
            "87/87 [==============================] - 1s 7ms/step - loss: 0.0017\n",
            "Epoch 93/100\n",
            "87/87 [==============================] - 1s 7ms/step - loss: 0.0016\n",
            "Epoch 94/100\n",
            "87/87 [==============================] - 1s 7ms/step - loss: 0.0016\n",
            "Epoch 95/100\n",
            "87/87 [==============================] - 1s 6ms/step - loss: 0.0016\n",
            "Epoch 96/100\n",
            "87/87 [==============================] - 1s 7ms/step - loss: 0.0016\n",
            "Epoch 97/100\n",
            "87/87 [==============================] - 1s 7ms/step - loss: 0.0018\n",
            "Epoch 98/100\n",
            "87/87 [==============================] - 1s 6ms/step - loss: 0.0016\n",
            "Epoch 99/100\n",
            "87/87 [==============================] - 1s 6ms/step - loss: 0.0016\n",
            "Epoch 100/100\n",
            "87/87 [==============================] - 1s 7ms/step - loss: 0.0017\n"
          ]
        },
        {
          "output_type": "execute_result",
          "data": {
            "text/plain": [
              "<keras.callbacks.History at 0x7fc3581fe310>"
            ]
          },
          "metadata": {},
          "execution_count": 48
        }
      ]
    },
    {
      "cell_type": "code",
      "source": [
        "regressor.summary()"
      ],
      "metadata": {
        "colab": {
          "base_uri": "https://localhost:8080/"
        },
        "id": "CmzWDkgalUQu",
        "outputId": "aaac8634-2416-40cd-8170-8547858fb5b3"
      },
      "execution_count": null,
      "outputs": [
        {
          "output_type": "stream",
          "name": "stdout",
          "text": [
            "Model: \"sequential\"\n",
            "_________________________________________________________________\n",
            " Layer (type)                Output Shape              Param #   \n",
            "=================================================================\n",
            " lstm (LSTM)                 (None, 10)                480       \n",
            "                                                                 \n",
            " dropout (Dropout)           (None, 10)                0         \n",
            "                                                                 \n",
            " dense (Dense)               (None, 1)                 11        \n",
            "                                                                 \n",
            "=================================================================\n",
            "Total params: 491\n",
            "Trainable params: 491\n",
            "Non-trainable params: 0\n",
            "_________________________________________________________________\n"
          ]
        }
      ]
    },
    {
      "cell_type": "code",
      "source": [
        "test_set.shape"
      ],
      "metadata": {
        "colab": {
          "base_uri": "https://localhost:8080/"
        },
        "id": "d-W4dB5elZWM",
        "outputId": "04d8cada-597f-49ea-8bcd-40833088df2e"
      },
      "execution_count": null,
      "outputs": [
        {
          "output_type": "execute_result",
          "data": {
            "text/plain": [
              "(251, 1)"
            ]
          },
          "metadata": {},
          "execution_count": 94
        }
      ]
    },
    {
      "cell_type": "code",
      "source": [
        "inputs = dataset[len(dataset)-len(test_set)-10:].values\n",
        "inputs.shape"
      ],
      "metadata": {
        "colab": {
          "base_uri": "https://localhost:8080/"
        },
        "id": "JUAn5x8woS-H",
        "outputId": "34c1aa08-a824-4387-9670-5b3201b9b7b0"
      },
      "execution_count": null,
      "outputs": [
        {
          "output_type": "execute_result",
          "data": {
            "text/plain": [
              "(261, 1)"
            ]
          },
          "metadata": {},
          "execution_count": 95
        }
      ]
    },
    {
      "cell_type": "code",
      "source": [
        "inputs = sc.fit_transform(inputs)"
      ],
      "metadata": {
        "id": "J8kS6eTZov7w"
      },
      "execution_count": null,
      "outputs": []
    },
    {
      "cell_type": "code",
      "source": [
        "X_test = []\n",
        "for i in range(10, len(inputs)):\n",
        "  X_test.append(inputs[i-10:i, 0])\n",
        "X_test = np.array(X_test)\n",
        "X_test = np.reshape(X_test, (X_test.shape[0], X_test.shape[1],1))"
      ],
      "metadata": {
        "id": "xhXyBuIjprhQ"
      },
      "execution_count": null,
      "outputs": []
    },
    {
      "cell_type": "code",
      "source": [
        "predicted_stock_price = regressor.predict(X_test)"
      ],
      "metadata": {
        "id": "Q1FQpCjwqszo"
      },
      "execution_count": null,
      "outputs": []
    },
    {
      "cell_type": "code",
      "source": [
        "predicted_stock_price = sc.inverse_transform(predicted_stock_price)"
      ],
      "metadata": {
        "id": "9zl1iGN3q8j7"
      },
      "execution_count": null,
      "outputs": []
    },
    {
      "cell_type": "code",
      "source": [
        "plt.plot(test_set, color=\"blue\", label=\"Real IBM Stock Price\")\n",
        "plt.plot(predicted_stock_price, color=\"red\", label=\"Predicted IBM Stock Price\")\n",
        "plt.title(\"IBM Stock Price Prediction\")\n",
        "plt.xlabel(\"Time\")\n",
        "plt.ylabel(\"IBM Stock Price\")\n",
        "plt.legend()\n",
        "plt.show()"
      ],
      "metadata": {
        "colab": {
          "base_uri": "https://localhost:8080/",
          "height": 295
        },
        "id": "q5oZ4R21rDj1",
        "outputId": "ad4115fe-0b12-44dc-a669-dbe54d06a30a"
      },
      "execution_count": null,
      "outputs": [
        {
          "output_type": "display_data",
          "data": {
            "text/plain": [
              "<Figure size 432x288 with 1 Axes>"
            ],
            "image/png": "[encoded data removed]"
          },
          "metadata": {
            "needs_background": "light"
          }
        }
      ]
    }
  ]
}